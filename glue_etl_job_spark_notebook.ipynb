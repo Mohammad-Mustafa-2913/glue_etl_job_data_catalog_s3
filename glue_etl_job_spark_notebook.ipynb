{
 "cells": [
  {
   "cell_type": "markdown",
   "id": "1a9ef3a9-a734-4d18-b07c-ebce9253c433",
   "metadata": {},
   "source": [
    "#### Create Glue Context and Job"
   ]
  },
  {
   "cell_type": "code",
   "execution_count": null,
   "id": "5ec0b05d-f2c3-4832-96c8-2aeaf66a2d0f",
   "metadata": {},
   "outputs": [],
   "source": [
    "%idle_timeout 2880\n",
    "%glue_version 3.0\n",
    "%worker_type G.1X\n",
    "%number_of_workers 2\n",
    "\n",
    "import sys\n",
    "from awsglue.transforms import *\n",
    "from awsglue.utils import getResolvedOptions\n",
    "from pyspark.context import SparkContext\n",
    "from awsglue.context import GlueContext\n",
    "from awsglue.job import Job\n",
    "from awsglue.dynamicframe import DynamicFrame\n",
    "from pyspark.sql import SparkSession, functions as F\n",
    "from pyspark.sql.window import Window\n",
    "  \n",
    "sc = SparkContext.getOrCreate()\n",
    "glueContext = GlueContext(sc)\n",
    "spark = glueContext.spark_session\n",
    "job = Job(glueContext)"
   ]
  },
  {
   "cell_type": "markdown",
   "id": "de4bd720-f0bc-48f6-bde1-134b2f2c5161",
   "metadata": {},
   "source": [
    "#### Create Spark Dataframe"
   ]
  },
  {
   "cell_type": "code",
   "execution_count": 3,
   "id": "98f76088-b1ed-47c8-a96d-7ad0185c64a2",
   "metadata": {},
   "outputs": [],
   "source": [
    "dyf = glueContext.create_dynamic_frame.from_catalog(database='glue-etl-from-csv-to-parquet', table_name='ufo_reports_source_csv')\n",
    "df_spark = dyf.toDF()"
   ]
  },
  {
   "cell_type": "markdown",
   "id": "55c1da53-c8fd-4296-9221-1aa4a69d05db",
   "metadata": {},
   "source": [
    "#### Rename columns"
   ]
  },
  {
   "cell_type": "code",
   "execution_count": 4,
   "id": "c4846576-cc21-492e-8cc3-522086be7b60",
   "metadata": {},
   "outputs": [],
   "source": [
    "df_renamed = df_spark.withColumnRenamed(\"Shape Reported\", \"shape_reported\") \\\n",
    "    .withColumnRenamed(\"Colors Reported\", \"color_reported\") \\\n",
    "    .withColumnRenamed(\"State\", \"state\") \\\n",
    "    .withColumnRenamed(\"Time\", \"time\")"
   ]
  },
  {
   "cell_type": "markdown",
   "id": "316f7956-5b9f-4b9d-9b62-db4c116b3729",
   "metadata": {},
   "source": [
    "#### Extract year and drop unnecessary columns"
   ]
  },
  {
   "cell_type": "code",
   "execution_count": 5,
   "id": "ed39a107-93db-4024-aa60-b86eb6f790f1",
   "metadata": {},
   "outputs": [],
   "source": [
    "df_year_added = df_renamed.withColumn(\"year\", F.year(F.to_timestamp(F.col(\"time\"), \"M/d/yyyy H:mm\"))) \\\n",
    "    .drop(\"time\") \\\n",
    "    .drop(\"City\")"
   ]
  },
  {
   "cell_type": "markdown",
   "id": "1e8ab1c3-dc1b-4134-b826-ed1200c264b3",
   "metadata": {},
   "source": [
    "#### Filter out records with NULL shape_reported and color_reported values"
   ]
  },
  {
   "cell_type": "code",
   "execution_count": 6,
   "id": "14950962-0165-4ae6-9c47-ac4817b308bb",
   "metadata": {},
   "outputs": [],
   "source": [
    "df_not_null = df_year_added.filter((F.col(\"shape_reported\").isNotNull()) & (F.col(\"color_reported\").isNotNull()))"
   ]
  },
  {
   "cell_type": "markdown",
   "id": "6cd4edc8-e35a-41cb-bb54-f4b68c4dbfdd",
   "metadata": {},
   "source": [
    "#### Group and aggregate occurrences of shape and color"
   ]
  },
  {
   "cell_type": "code",
   "execution_count": 7,
   "id": "6837a6f2-d1b7-491f-8b7a-1ef575ae3105",
   "metadata": {},
   "outputs": [],
   "source": [
    "shape_grouped = df_not_null.groupBy(\"year\", \"state\", \"shape_reported\") \\\n",
    "    .agg(F.count(\"*\").alias(\"shape_occurrence\"))\n",
    "\n",
    "color_grouped = df_not_null.groupBy(\"year\", \"state\", \"color_reported\") \\\n",
    "    .agg(F.count(\"*\").alias(\"color_occurrence\"))"
   ]
  },
  {
   "cell_type": "markdown",
   "id": "076b05b2-bdab-4593-a38c-cf125cf0c125",
   "metadata": {},
   "source": [
    "### Join shape and color dataframes"
   ]
  },
  {
   "cell_type": "code",
   "execution_count": 8,
   "id": "9d3079b7-fe4d-4cc6-b963-9180646c1e53",
   "metadata": {},
   "outputs": [],
   "source": [
    "df_joined = shape_grouped.join(color_grouped,\n",
    "                               on=[\"year\", \"state\"],\n",
    "                               how=\"inner\")"
   ]
  },
  {
   "cell_type": "markdown",
   "id": "2637b537-9ae3-400c-984c-810fbed9ac25",
   "metadata": {},
   "source": [
    "#### Create window specifications"
   ]
  },
  {
   "cell_type": "code",
   "execution_count": 9,
   "id": "11012adb-3836-49e4-931c-4ba01f46029d",
   "metadata": {},
   "outputs": [],
   "source": [
    "shape_window_spec = Window.partitionBy(\"year\", \"state\").orderBy(F.col(\"shape_occurrence\").desc())\n",
    "color_window_spec = Window.partitionBy(\"year\", \"state\").orderBy(F.col(\"color_occurrence\").desc())"
   ]
  },
  {
   "cell_type": "markdown",
   "id": "26f86577-651d-44c6-948c-07e8875830f5",
   "metadata": {},
   "source": [
    "#### Select top occurrences of shape and color per year and state breakdown"
   ]
  },
  {
   "cell_type": "code",
   "execution_count": 10,
   "id": "dddc996a-e29b-4768-b1c5-b22421ee7d18",
   "metadata": {},
   "outputs": [],
   "source": [
    "final_df = df_joined.withColumn(\"shape_rank\", F.row_number().over(shape_window_spec)) \\\n",
    "    .withColumn(\"color_rank\", F.row_number().over(color_window_spec)) \\\n",
    "    .filter((F.col(\"shape_rank\") == 1) & (F.col(\"color_rank\") == 1)) \\\n",
    "    .select(\"year\", \"state\", \"shape_reported\", \"shape_occurrence\", \"color_reported\", \"color_occurrence\") \\\n",
    "    .orderBy(F.col(\"shape_occurrence\").desc(), F.col(\"color_occurrence\").desc())"
   ]
  },
  {
   "cell_type": "markdown",
   "metadata": {},
   "source": [
    "#### Create Glue Dynamic Dataframe"
   ]
  },
  {
   "cell_type": "code",
   "execution_count": null,
   "id": "2345294f",
   "metadata": {},
   "outputs": [],
   "source": [
    "MyDynamicFrame = DynamicFrame.fromDF(final_df, glueContext, \"glue_etl\")"
   ]
  },
  {
   "cell_type": "markdown",
   "id": "7448bef8",
   "metadata": {},
   "source": [
    "#### Write the Data"
   ]
  },
  {
   "cell_type": "code",
   "execution_count": null,
   "id": "651f2294",
   "metadata": {},
   "outputs": [],
   "source": [
    "s3output = glueContext.getSink(\n",
    "  path=\"s3://bucket_name/folder_name\",\n",
    "  connection_type=\"s3\",\n",
    "  updateBehavior=\"UPDATE_IN_DATABASE\",\n",
    "  partitionKeys=[],\n",
    "  compression=\"snappy\",\n",
    "  enableUpdateCatalog=True,\n",
    "  transformation_ctx=\"s3output\",\n",
    ")\n",
    "s3output.setCatalogInfo(\n",
    "  catalogDatabase=\"demo\", catalogTableName=\"populations\"\n",
    ")\n",
    "s3output.setFormat(\"glueparquet\")\n",
    "s3output.writeFrame(MyDynamicFrame)\n",
    "\n",
    "job.commit()"
   ]
  }
 ],
 "metadata": {
  "kernelspec": {
   "display_name": "Python 3.10.7 64-bit",
   "language": "python",
   "name": "python3"
  },
  "language_info": {
   "codemirror_mode": {
    "name": "ipython",
    "version": 3
   },
   "file_extension": ".py",
   "mimetype": "text/x-python",
   "name": "python",
   "nbconvert_exporter": "python",
   "pygments_lexer": "ipython3",
   "version": "3.10.7"
  },
  "vscode": {
   "interpreter": {
    "hash": "98590ff4fe04c8543246b2a01debd3de3c5ca9b666f43f1fa87d5110c692004c"
   }
  }
 },
 "nbformat": 4,
 "nbformat_minor": 5
}
